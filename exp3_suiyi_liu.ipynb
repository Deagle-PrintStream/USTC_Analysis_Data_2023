{
 "cells": [
  {
   "attachments": {},
   "cell_type": "markdown",
   "metadata": {},
   "source": [
    "# 数据分析与实践实验三-实验报告\n",
    "\n",
    "*刘眭怿 PB20061256 2023.5.3*\n",
    "\n",
    "## 实验要求\n",
    "> PISA2018包含了学生问卷，考试诊断，学校、老师等数个数据集。本次实验针对PICA2015中的学生调查问卷数据集，共490个特征。\n",
    "> - 预测目标：学生是否复读(repeat grade);\n",
    "> - 指出哪些相关特征可以用来分析和预测；又可以抽取和构造哪些特征；\n",
    "> - 指出哪些特征是强相关的，哪些不是；\n",
    "> - 自由探索特征之间的相关性；\n",
    "> - 使用可视化工具表现这些特征的关系。\n",
    "\n",
    "## 实验分析\n",
    "\n",
    "1. 首先对数据字段的概况进行了解，根据常识和经验，以及字段的含义，进行初步的筛选；\n",
    "2. 对数据集进行预处理，删去显著异常的数据；剔除重复字段或者无效字段（考虑到是原始数据集的部分截取，故存在部分字段重复）；\n",
    "3. 从数据集中筛选出部分关键的概况性字段，进行数据整体的刻画和分析；\n",
    "4. 然后根据常识，和上一步得到的一些初步结论，依次对细节性的具体字段经行测试和预测，判断与目标字段的相关性；其中可能需要使用不同的算法模型；\n",
    "5. 提取出关键特征后，进一步分析其相关性，并给出可能的现实意义的解释；绘制图表表现这些关系。\n",
    "\n",
    "## 实验过程\n",
    "\n",
    "### 各项特征的概况\n",
    "\n",
    "- 通过codebook得到数据表格中的字段最基本的概况，字段大致可以分为以下几种：\n",
    "  - **学生的基本概况信息**；\n",
    "  - 具体的问卷调查的问题回答；\n",
    "  - 具体的考试测试的问题得分；\n",
    "  - 问卷、报告的语言设置等；\n",
    "  - **学生父母的概况信息**；\n",
    "  - 学生日常的语言使用情况；\n",
    "  - 学生日常对于电子通讯设备(ICT)的使用情况；\n",
    "  - **学生原生家庭概况**；\n",
    "  - **学生就读的学校变动次数**；\n",
    "  - 学习各类科目使用的时间；\n",
    "  - 由问卷和考试得到的对于学生的各类信息的加权似然估计(WLE)\n",
    "- 由字段的性质，删去原始数据集中的无效字段：\n",
    "  - 重复字段，例如国家编号`CNTRYID`和国籍`CNT`可以视为同一个字段，年龄`AGE`和出生日期`ST001D02T`可视为同一个字段，所在年级`ST001D01T`和理应所在年级差值`GRADE`可视为一个字段；\n",
    "  - 由常识和先验知识，删去一些基本可以确定的无关字段，例如`LANGTEST_COG`问卷的语言类型，后续可以验证，该字段数值与国籍高度重复；\n",
    "- 由常识和先验知识，找出刻画学生的概况的字段，例如国籍，年龄，年级（国际标准化）等，用于对数据概况的分析，后续再加入具体问卷问题的字段数据；\n",
    "- 由特征的涵义可知，一个与`REPEAT`高度相关的字段是`GRADE`，表示该学生当前年级与该国的此年纪的学生理应所在年级的差值；\n",
    "- 打开原始数据集，进行预处理；\n",
    "  - 注意到其中有一个数据的誊写位置发生了错位，舍去该数据，数据集的大小可以由75M缩小到35M，减小内存开销；\\*  \n",
    "  - 此时的数据共有27166条；\n",
    "  - 按国籍划分，共计3个国家的学生数据； \n",
    "  - 按照是否复读划分，共计3种类型，其中无复读的数据共为20601条，复读数据共6546个，缺失数据共19个。\n",
    "  - 删去重复字段,由于国籍总共3种，因此`OCED`字段也可视为是重复的；\n",
    "  - 删去无区分度的字段，例如`ADMINMODE`的数值均为2；\n",
    "- 得到预处理的数据集，命名为`lab3-data-pre.csv`\\*\\*\n",
    "- 根据常识，对特征进行先验性的假设：一个学生如果留级，则可能的原因有\n",
    "  - 学习成绩不理想；\n",
    "  - 身体原因，休学留级；\n",
    "  - 家庭变故，休学留级；\n",
    "  - 转校留级；\n",
    "\n",
    "\\*该数据条目的各字段数据均明显错误，故舍去\n",
    "| |\tindex|\tCNTRYID| \tCNT|\n",
    "| --|-- | --|-- |\t\n",
    "|111|\t27167|\t71829|\t724|\t\n",
    "\n",
    "\\*\\* 可以直接打开`lab3-data.csv`，对于`CNT`字段进行筛查，便能找到异常样本，直接剔除即可;\n",
    "\n",
    "此时的读入数据操作的代码为：\n",
    "```\n",
    "dataset=pd.read_csv(\"./lab3-data.csv\")\n",
    "dataset.loc[dataset['CNT']=='724']\n",
    "......\n",
    "```\n",
    "之所以预先在Excel中处理是为了后续ipynb中打开时减少内存开销，否则绘图时，耗时可能超过20s的默认单模块运算时间上限。\n",
    "\n",
    "### 对描述学生概况的特征进行分析\n",
    "\n",
    "- 打开juputer notebook，进行基本的前置工作，包括：\n",
    "  - 导入基本的库函数；\n",
    "  - 导入原始数据；\n",
    "  - 了解数据集概况；\n",
    "  - 划分为训练，测试，预测集合（即`repeat`字段缺失的数据）；"
   ]
  },
  {
   "cell_type": "code",
   "execution_count": 108,
   "metadata": {},
   "outputs": [
    {
     "name": "stdout",
     "output_type": "stream",
     "text": [
      "['CNT' 'ST004D01T' 'GRADE' 'AGE' 'IMMIG' 'REPEAT']\n"
     ]
    }
   ],
   "source": [
    "# data analysis and wrangling\n",
    "import pandas as pd\n",
    "import numpy as np\n",
    "import random as rnd\n",
    "import os,sys\n",
    "\n",
    "# visualization\n",
    "import seaborn as sns\n",
    "import matplotlib.pyplot as plt\n",
    "%matplotlib inline\n",
    "\n",
    "#change the workspace file path\n",
    "os.chdir(sys.path[0])\n",
    "#columns for a overall view upon dataset; 'ST004D01T' is GENDER\n",
    "overview_columns=['CNT','ST004D01T','GRADE','AGE','IMMIG','REPEAT']\n",
    "#preset feature combinations for testment\n",
    "academic_columns=['MMINS','LMINS','SMINS','TMINS','UNDREM','METASUM','METASPAM','AGE','REPEAT']\n",
    "school_change_columns=['DURECEC','SCCHANGE','CHANGE','IMMIG','REPEAT']  \n",
    "family_columns=['ESCS','HOMEPOS','CULTPOSS','HEDRES','WEALTH','ICTRES','REPEAT']#abolished\n",
    "health_columns=['STUBMI','ST004D01T','REPEAT']#abolished\n",
    "\n",
    "dataset_overview=pd.read_csv(\"./lab3-data-pre.csv\",usecols=overview_columns)\n",
    "#switch datatype to Int64, including NaN\n",
    "int64_columns=['ST004D01T','GRADE','REPEAT','IMMIG',]\n",
    "for col in int64_columns:\n",
    "    #a weird thing is that 'int64' cannot support NaN, but 'Int64' can.\n",
    "    dataset_overview[col]=dataset_overview[col].astype('Int64')\n",
    "\n",
    "print(dataset_overview.columns.values)"
   ]
  },
  {
   "attachments": {},
   "cell_type": "markdown",
   "metadata": {},
   "source": [
    "为了对概况进行了解，我们大胆舍去所有概况性特征存在缺失的样本。可以看到，缺失的样本数量不多，对后续的结论影响不大。"
   ]
  },
  {
   "cell_type": "code",
   "execution_count": 109,
   "metadata": {},
   "outputs": [
    {
     "data": {
      "text/plain": [
       "CNT            0\n",
       "ST004D01T      0\n",
       "GRADE          0\n",
       "AGE            0\n",
       "IMMIG        232\n",
       "REPEAT        19\n",
       "dtype: int64"
      ]
     },
     "execution_count": 109,
     "metadata": {},
     "output_type": "execute_result"
    }
   ],
   "source": [
    "dataset_overview.isna().sum()"
   ]
  },
  {
   "cell_type": "code",
   "execution_count": 110,
   "metadata": {},
   "outputs": [
    {
     "name": "stdout",
     "output_type": "stream",
     "text": [
      "<class 'pandas.core.frame.DataFrame'>\n",
      "Int64Index: 26921 entries, 0 to 27165\n",
      "Data columns (total 6 columns):\n",
      " #   Column     Non-Null Count  Dtype  \n",
      "---  ------     --------------  -----  \n",
      " 0   CNT        26921 non-null  object \n",
      " 1   ST004D01T  26921 non-null  Int64  \n",
      " 2   GRADE      26921 non-null  Int64  \n",
      " 3   AGE        26921 non-null  float64\n",
      " 4   IMMIG      26921 non-null  Int64  \n",
      " 5   REPEAT     26921 non-null  Int64  \n",
      "dtypes: Int64(4), float64(1), object(1)\n",
      "memory usage: 1.5+ MB\n"
     ]
    }
   ],
   "source": [
    "#data type now satisfies the following demand.\n",
    "dataset_overview=dataset_overview.dropna(axis=0,how='any')\n",
    "dataset_overview.info()"
   ]
  },
  {
   "attachments": {},
   "cell_type": "markdown",
   "metadata": {},
   "source": [
    "选择的概况性的特征中：\n",
    "- 连续的的有：年龄；（由于统计的出生日期仅精确到月份，因此该数值实际为离散，此处可视为连续）\n",
    "- 离散的特征有：国籍，是否是移民，性别，理应所在年级，是否留级；\n",
    "- 其中二值化的特征有：性别，是否留级。\n",
    "\n",
    "接下来对概况性特征进行数量上的统计："
   ]
  },
  {
   "cell_type": "code",
   "execution_count": 111,
   "metadata": {},
   "outputs": [
    {
     "data": {
      "text/plain": [
       "ESP    25785\n",
       "PAN     1026\n",
       "CHL      110\n",
       "Name: CNT, dtype: int64"
      ]
     },
     "execution_count": 111,
     "metadata": {},
     "output_type": "execute_result"
    }
   ],
   "source": [
    "dataset_overview['CNT'].value_counts()"
   ]
  },
  {
   "cell_type": "code",
   "execution_count": 112,
   "metadata": {},
   "outputs": [
    {
     "data": {
      "text/plain": [
       "1    13565\n",
       "2    13356\n",
       "Name: ST004D01T, dtype: Int64"
      ]
     },
     "execution_count": 112,
     "metadata": {},
     "output_type": "execute_result"
    }
   ],
   "source": [
    "dataset_overview['ST004D01T'].value_counts()"
   ]
  },
  {
   "cell_type": "code",
   "execution_count": 113,
   "metadata": {},
   "outputs": [
    {
     "data": {
      "text/plain": [
       "0    20463\n",
       "1     6458\n",
       "Name: REPEAT, dtype: Int64"
      ]
     },
     "execution_count": 113,
     "metadata": {},
     "output_type": "execute_result"
    }
   ],
   "source": [
    "dataset_overview['REPEAT'].value_counts()"
   ]
  },
  {
   "cell_type": "code",
   "execution_count": 114,
   "metadata": {},
   "outputs": [
    {
     "data": {
      "text/html": [
       "<div>\n",
       "<style scoped>\n",
       "    .dataframe tbody tr th:only-of-type {\n",
       "        vertical-align: middle;\n",
       "    }\n",
       "\n",
       "    .dataframe tbody tr th {\n",
       "        vertical-align: top;\n",
       "    }\n",
       "\n",
       "    .dataframe thead th {\n",
       "        text-align: right;\n",
       "    }\n",
       "</style>\n",
       "<table border=\"1\" class=\"dataframe\">\n",
       "  <thead>\n",
       "    <tr style=\"text-align: right;\">\n",
       "      <th></th>\n",
       "      <th>AGE</th>\n",
       "    </tr>\n",
       "  </thead>\n",
       "  <tbody>\n",
       "    <tr>\n",
       "      <th>count</th>\n",
       "      <td>26921.000000</td>\n",
       "    </tr>\n",
       "    <tr>\n",
       "      <th>mean</th>\n",
       "      <td>15.835580</td>\n",
       "    </tr>\n",
       "    <tr>\n",
       "      <th>std</th>\n",
       "      <td>0.287142</td>\n",
       "    </tr>\n",
       "    <tr>\n",
       "      <th>min</th>\n",
       "      <td>15.330000</td>\n",
       "    </tr>\n",
       "    <tr>\n",
       "      <th>25%</th>\n",
       "      <td>15.580000</td>\n",
       "    </tr>\n",
       "    <tr>\n",
       "      <th>50%</th>\n",
       "      <td>15.830000</td>\n",
       "    </tr>\n",
       "    <tr>\n",
       "      <th>75%</th>\n",
       "      <td>16.080000</td>\n",
       "    </tr>\n",
       "    <tr>\n",
       "      <th>max</th>\n",
       "      <td>16.330000</td>\n",
       "    </tr>\n",
       "  </tbody>\n",
       "</table>\n",
       "</div>"
      ],
      "text/plain": [
       "                AGE\n",
       "count  26921.000000\n",
       "mean      15.835580\n",
       "std        0.287142\n",
       "min       15.330000\n",
       "25%       15.580000\n",
       "50%       15.830000\n",
       "75%       16.080000\n",
       "max       16.330000"
      ]
     },
     "execution_count": 114,
     "metadata": {},
     "output_type": "execute_result"
    }
   ],
   "source": [
    "dataset_overview.describe(include=['float64'])"
   ]
  },
  {
   "cell_type": "code",
   "execution_count": 138,
   "metadata": {},
   "outputs": [
    {
     "data": {
      "text/plain": [
       " 0    20225\n",
       "-1     6635\n",
       " 1       61\n",
       "Name: GRADE, dtype: int64"
      ]
     },
     "execution_count": 138,
     "metadata": {},
     "output_type": "execute_result"
    }
   ],
   "source": [
    "dataset_overview['GRADE'].value_counts()"
   ]
  },
  {
   "cell_type": "code",
   "execution_count": 116,
   "metadata": {},
   "outputs": [
    {
     "data": {
      "text/html": [
       "<div>\n",
       "<style scoped>\n",
       "    .dataframe tbody tr th:only-of-type {\n",
       "        vertical-align: middle;\n",
       "    }\n",
       "\n",
       "    .dataframe tbody tr th {\n",
       "        vertical-align: top;\n",
       "    }\n",
       "\n",
       "    .dataframe thead th {\n",
       "        text-align: right;\n",
       "    }\n",
       "</style>\n",
       "<table border=\"1\" class=\"dataframe\">\n",
       "  <thead>\n",
       "    <tr style=\"text-align: right;\">\n",
       "      <th></th>\n",
       "      <th>GRADE</th>\n",
       "      <th>REPEAT</th>\n",
       "    </tr>\n",
       "  </thead>\n",
       "  <tbody>\n",
       "    <tr>\n",
       "      <th>0</th>\n",
       "      <td>-3</td>\n",
       "      <td>0.869565</td>\n",
       "    </tr>\n",
       "    <tr>\n",
       "      <th>1</th>\n",
       "      <td>-2</td>\n",
       "      <td>0.933502</td>\n",
       "    </tr>\n",
       "    <tr>\n",
       "      <th>2</th>\n",
       "      <td>-1</td>\n",
       "      <td>0.928282</td>\n",
       "    </tr>\n",
       "    <tr>\n",
       "      <th>3</th>\n",
       "      <td>0</td>\n",
       "      <td>0.014487</td>\n",
       "    </tr>\n",
       "    <tr>\n",
       "      <th>4</th>\n",
       "      <td>1</td>\n",
       "      <td>0.016667</td>\n",
       "    </tr>\n",
       "    <tr>\n",
       "      <th>5</th>\n",
       "      <td>2</td>\n",
       "      <td>0.0</td>\n",
       "    </tr>\n",
       "  </tbody>\n",
       "</table>\n",
       "</div>"
      ],
      "text/plain": [
       "   GRADE    REPEAT\n",
       "0     -3  0.869565\n",
       "1     -2  0.933502\n",
       "2     -1  0.928282\n",
       "3      0  0.014487\n",
       "4      1  0.016667\n",
       "5      2       0.0"
      ]
     },
     "execution_count": 116,
     "metadata": {},
     "output_type": "execute_result"
    }
   ],
   "source": [
    "#an easy glance upon 'GRADE' column and it shows great correlation with 'REPEAT'.\n",
    "target_column='GRADE'\n",
    "dataset_overview[[target_column, 'REPEAT']].groupby([target_column], as_index=False).mean().sort_values(by=target_column, ascending=True)"
   ]
  },
  {
   "cell_type": "code",
   "execution_count": 117,
   "metadata": {},
   "outputs": [
    {
     "data": {
      "text/html": [
       "<div>\n",
       "<style scoped>\n",
       "    .dataframe tbody tr th:only-of-type {\n",
       "        vertical-align: middle;\n",
       "    }\n",
       "\n",
       "    .dataframe tbody tr th {\n",
       "        vertical-align: top;\n",
       "    }\n",
       "\n",
       "    .dataframe thead th {\n",
       "        text-align: right;\n",
       "    }\n",
       "</style>\n",
       "<table border=\"1\" class=\"dataframe\">\n",
       "  <thead>\n",
       "    <tr style=\"text-align: right;\">\n",
       "      <th></th>\n",
       "      <th>IMMIG</th>\n",
       "      <th>REPEAT</th>\n",
       "    </tr>\n",
       "  </thead>\n",
       "  <tbody>\n",
       "    <tr>\n",
       "      <th>0</th>\n",
       "      <td>1</td>\n",
       "      <td>0.214194</td>\n",
       "    </tr>\n",
       "    <tr>\n",
       "      <th>1</th>\n",
       "      <td>2</td>\n",
       "      <td>0.417989</td>\n",
       "    </tr>\n",
       "    <tr>\n",
       "      <th>2</th>\n",
       "      <td>3</td>\n",
       "      <td>0.477689</td>\n",
       "    </tr>\n",
       "  </tbody>\n",
       "</table>\n",
       "</div>"
      ],
      "text/plain": [
       "   IMMIG    REPEAT\n",
       "0      1  0.214194\n",
       "1      2  0.417989\n",
       "2      3  0.477689"
      ]
     },
     "execution_count": 117,
     "metadata": {},
     "output_type": "execute_result"
    }
   ],
   "source": [
    "target_column='IMMIG'\n",
    "dataset_overview[[target_column, 'REPEAT']].groupby([target_column], as_index=False).mean().sort_values(by=target_column, ascending=True)"
   ]
  },
  {
   "attachments": {},
   "cell_type": "markdown",
   "metadata": {},
   "source": [
    "我们做出假设：在根据学生理应所在年级`GRADE`进行划分后，寻找其余特征可以很好的对是否复读进行拟合。即一个简易的浅层决策树可以得出很好的预测结果。\n",
    "\n",
    "由于所在年级的差值的+2,-3的数据点过少，因此可以将`GRADE`划分为三类，即`>0,=0,<0`，这样可以减少`IMMIG=3,GRADE=-3`的样本数量过少带来的估计误差。\n",
    "\n",
    "同时，我们还看到，性别、国籍、移民类型对是否复读存在影响，但不大。"
   ]
  },
  {
   "cell_type": "code",
   "execution_count": 118,
   "metadata": {},
   "outputs": [
    {
     "name": "stderr",
     "output_type": "stream",
     "text": [
      "c:\\Users\\PDW\\AppData\\Local\\Programs\\Python\\Python310\\lib\\site-packages\\seaborn\\axisgrid.py:712: UserWarning: Using the pointplot function without specifying `order` is likely to produce an incorrect plot.\n",
      "  warnings.warn(warning)\n",
      "c:\\Users\\PDW\\AppData\\Local\\Programs\\Python\\Python310\\lib\\site-packages\\seaborn\\axisgrid.py:717: UserWarning: Using the pointplot function without specifying `hue_order` is likely to produce an incorrect plot.\n",
      "  warnings.warn(warning)\n"
     ]
    },
    {
     "data": {
      "text/plain": [
       "<seaborn.axisgrid.FacetGrid at 0x220dedd9060>"
      ]
     },
     "execution_count": 118,
     "metadata": {},
     "output_type": "execute_result"
    },
    {
     "data": {
      "image/png": "[encoded data removed]",
      "text/plain": [
       "<Figure size 358.875x900 with 3 Axes>"
      ]
     },
     "metadata": {},
     "output_type": "display_data"
    }
   ],
   "source": [
    "grade_map={-3:-1,-2:-1,-1:-1,0:0,1:1,2:1}\n",
    "dataset_overview['GRADE']=dataset_overview['GRADE'].map(grade_map)\n",
    "g = sns.FacetGrid(dataset_overview, row='IMMIG',)\n",
    "g.map(sns.pointplot,'GRADE','REPEAT','ST004D01T')\n",
    "g.add_legend()"
   ]
  },
  {
   "attachments": {},
   "cell_type": "markdown",
   "metadata": {},
   "source": [
    "单个特征`GRADE`对`REPEAT`的预测效果极佳，且进一步从概况性特征中提升f1-score的效果可能不明显。"
   ]
  },
  {
   "cell_type": "code",
   "execution_count": 119,
   "metadata": {},
   "outputs": [
    {
     "data": {
      "text/plain": [
       "0.9613991827216236"
      ]
     },
     "execution_count": 119,
     "metadata": {},
     "output_type": "execute_result"
    }
   ],
   "source": [
    "y_pred=[int(x<0) for x in dataset_overview['GRADE']]\n",
    "y_true=[int(x) for x in dataset_overview['REPEAT']]\n",
    "\n",
    "from sklearn.metrics import f1_score\n",
    "f1_score(y_true,y_pred,average='macro')"
   ]
  },
  {
   "attachments": {},
   "cell_type": "markdown",
   "metadata": {},
   "source": [
    "从基本的数量统计上，我们可以看到：\n",
    "- 大部分的学生正常升学，有24.1%的学生存在留级的情况；\n",
    "- 这些学生的数据全部来自于三个国家，其中`ESP`的样本数量最多，占比达95.5%；由于其余两个国家的样本数量过少，导致我们无法推测否留级与国别是否有直接的强相关性； \n",
    "- 样本中的性别分布接近相等；\n",
    "- 所有学生样本的年龄均介于15.33至16.33岁之间；\n",
    "- `GRADE`和`REPEAT`特征高度相关，这是由特征的现实涵义决定的；\n",
    "  - 如果学生所在年级高于期望的年级，则大概率属于跳级的情况；\n",
    "  - 如果学生所在年级吻合于期望的年级，则属于正常情况；74.9%的学生样本均处于期望的年级中；\n",
    "  - 如果学生所在年级低于期望的年级，则大概率属于留级的情况；\n",
    "- 是否是移民、是第几代移民的特征`IMMIG`,对于复读的情况也有影响。\n",
    "- 我们还可以看到，无直接强关联的特征有：性别，国籍，年龄。\n",
    "\n",
    "接下来根据`GRADE`和其余信息，进一步提升对于`REPEAT`的预测准确度`F1-score`。\n",
    "\n",
    "如果单纯利用概况性信息`overview_columns`，样本容量不足以支持第一个任务，即进一步细分特征的选取后，可能造成过拟合的情况。我们从先前的四个假设中重新审视其他特征对于`REPEAT`的关系性。\n",
    "\n",
    "我们做出如下假设：学生的学习成绩不理想，学习能力无法满足正常升学的要求，因此留级。相关的特征可能有：\n",
    "- 学生花费在各类科目的学习时间，包括`'MMINS','LMINS','SMINS','TMINS'`；\n",
    "- 学生的各类抽象的学习能力，包括`'UNDREM','METASUM','METASPAM'`；\n",
    "\n",
    "由于身体健康原因没有直接相关特征，仅身体BMI指数相关，故作罢。"
   ]
  },
  {
   "cell_type": "code",
   "execution_count": 120,
   "metadata": {},
   "outputs": [
    {
     "data": {
      "text/plain": [
       "AGE            0\n",
       "REPEAT        19\n",
       "MMINS       4659\n",
       "LMINS       4660\n",
       "SMINS       4845\n",
       "TMINS       8736\n",
       "UNDREM       846\n",
       "METASUM      868\n",
       "METASPAM    1135\n",
       "dtype: int64"
      ]
     },
     "execution_count": 120,
     "metadata": {},
     "output_type": "execute_result"
    }
   ],
   "source": [
    "dataset_academic=pd.read_csv(\"./lab3-data-pre.csv\",usecols=academic_columns)\n",
    "dataset_academic.isna().sum()"
   ]
  },
  {
   "cell_type": "code",
   "execution_count": 121,
   "metadata": {},
   "outputs": [],
   "source": [
    "time_columns=['MMINS','LMINS','SMINS','TMINS',]\n",
    "for col in time_columns:\n",
    "  dataset_academic[col].fillna(dataset_academic[col].dropna().median(), inplace=True)"
   ]
  },
  {
   "cell_type": "code",
   "execution_count": 122,
   "metadata": {},
   "outputs": [
    {
     "name": "stdout",
     "output_type": "stream",
     "text": [
      "<class 'pandas.core.frame.DataFrame'>\n",
      "Int64Index: 25207 entries, 0 to 27165\n",
      "Data columns (total 9 columns):\n",
      " #   Column    Non-Null Count  Dtype  \n",
      "---  ------    --------------  -----  \n",
      " 0   AGE       25207 non-null  float64\n",
      " 1   REPEAT    25207 non-null  float64\n",
      " 2   MMINS     25207 non-null  float64\n",
      " 3   LMINS     25207 non-null  float64\n",
      " 4   SMINS     25207 non-null  float64\n",
      " 5   TMINS     25207 non-null  float64\n",
      " 6   UNDREM    25207 non-null  float64\n",
      " 7   METASUM   25207 non-null  float64\n",
      " 8   METASPAM  25207 non-null  float64\n",
      "dtypes: float64(9)\n",
      "memory usage: 1.9 MB\n"
     ]
    }
   ],
   "source": [
    "dataset_academic=dataset_academic.dropna(axis=0,how='any')\n",
    "dataset_academic.info()"
   ]
  },
  {
   "cell_type": "code",
   "execution_count": 123,
   "metadata": {},
   "outputs": [
    {
     "data": {
      "text/html": [
       "<div>\n",
       "<style scoped>\n",
       "    .dataframe tbody tr th:only-of-type {\n",
       "        vertical-align: middle;\n",
       "    }\n",
       "\n",
       "    .dataframe tbody tr th {\n",
       "        vertical-align: top;\n",
       "    }\n",
       "\n",
       "    .dataframe thead th {\n",
       "        text-align: right;\n",
       "    }\n",
       "</style>\n",
       "<table border=\"1\" class=\"dataframe\">\n",
       "  <thead>\n",
       "    <tr style=\"text-align: right;\">\n",
       "      <th></th>\n",
       "      <th>AGE</th>\n",
       "      <th>REPEAT</th>\n",
       "      <th>MMINS</th>\n",
       "      <th>LMINS</th>\n",
       "      <th>SMINS</th>\n",
       "      <th>TMINS</th>\n",
       "      <th>UNDREM</th>\n",
       "      <th>METASUM</th>\n",
       "      <th>METASPAM</th>\n",
       "    </tr>\n",
       "  </thead>\n",
       "  <tbody>\n",
       "    <tr>\n",
       "      <th>count</th>\n",
       "      <td>25207.000000</td>\n",
       "      <td>25207.000000</td>\n",
       "      <td>25207.000000</td>\n",
       "      <td>25207.000000</td>\n",
       "      <td>25207.000000</td>\n",
       "      <td>25207.000000</td>\n",
       "      <td>25207.000000</td>\n",
       "      <td>25207.000000</td>\n",
       "      <td>25207.000000</td>\n",
       "    </tr>\n",
       "    <tr>\n",
       "      <th>mean</th>\n",
       "      <td>15.835249</td>\n",
       "      <td>0.233903</td>\n",
       "      <td>231.187964</td>\n",
       "      <td>225.677391</td>\n",
       "      <td>200.942199</td>\n",
       "      <td>1689.007419</td>\n",
       "      <td>0.211331</td>\n",
       "      <td>0.253519</td>\n",
       "      <td>0.016207</td>\n",
       "    </tr>\n",
       "    <tr>\n",
       "      <th>std</th>\n",
       "      <td>0.287477</td>\n",
       "      <td>0.423320</td>\n",
       "      <td>89.319847</td>\n",
       "      <td>92.011098</td>\n",
       "      <td>137.615182</td>\n",
       "      <td>365.470989</td>\n",
       "      <td>0.919120</td>\n",
       "      <td>0.894271</td>\n",
       "      <td>0.966326</td>\n",
       "    </tr>\n",
       "    <tr>\n",
       "      <th>min</th>\n",
       "      <td>15.330000</td>\n",
       "      <td>0.000000</td>\n",
       "      <td>0.000000</td>\n",
       "      <td>0.000000</td>\n",
       "      <td>0.000000</td>\n",
       "      <td>110.000000</td>\n",
       "      <td>-1.640000</td>\n",
       "      <td>-1.720000</td>\n",
       "      <td>-1.410000</td>\n",
       "    </tr>\n",
       "    <tr>\n",
       "      <th>25%</th>\n",
       "      <td>15.580000</td>\n",
       "      <td>0.000000</td>\n",
       "      <td>200.000000</td>\n",
       "      <td>200.000000</td>\n",
       "      <td>150.000000</td>\n",
       "      <td>1650.000000</td>\n",
       "      <td>-0.600000</td>\n",
       "      <td>-0.180000</td>\n",
       "      <td>-0.500000</td>\n",
       "    </tr>\n",
       "    <tr>\n",
       "      <th>50%</th>\n",
       "      <td>15.830000</td>\n",
       "      <td>0.000000</td>\n",
       "      <td>220.000000</td>\n",
       "      <td>220.000000</td>\n",
       "      <td>165.000000</td>\n",
       "      <td>1650.000000</td>\n",
       "      <td>0.450000</td>\n",
       "      <td>0.590000</td>\n",
       "      <td>-0.040000</td>\n",
       "    </tr>\n",
       "    <tr>\n",
       "      <th>75%</th>\n",
       "      <td>16.080000</td>\n",
       "      <td>0.000000</td>\n",
       "      <td>220.000000</td>\n",
       "      <td>220.000000</td>\n",
       "      <td>240.000000</td>\n",
       "      <td>1760.000000</td>\n",
       "      <td>0.800000</td>\n",
       "      <td>0.980000</td>\n",
       "      <td>0.870000</td>\n",
       "    </tr>\n",
       "    <tr>\n",
       "      <th>max</th>\n",
       "      <td>16.330000</td>\n",
       "      <td>1.000000</td>\n",
       "      <td>2400.000000</td>\n",
       "      <td>2300.000000</td>\n",
       "      <td>2400.000000</td>\n",
       "      <td>3000.000000</td>\n",
       "      <td>1.500000</td>\n",
       "      <td>1.360000</td>\n",
       "      <td>1.330000</td>\n",
       "    </tr>\n",
       "  </tbody>\n",
       "</table>\n",
       "</div>"
      ],
      "text/plain": [
       "                AGE        REPEAT         MMINS         LMINS         SMINS  \\\n",
       "count  25207.000000  25207.000000  25207.000000  25207.000000  25207.000000   \n",
       "mean      15.835249      0.233903    231.187964    225.677391    200.942199   \n",
       "std        0.287477      0.423320     89.319847     92.011098    137.615182   \n",
       "min       15.330000      0.000000      0.000000      0.000000      0.000000   \n",
       "25%       15.580000      0.000000    200.000000    200.000000    150.000000   \n",
       "50%       15.830000      0.000000    220.000000    220.000000    165.000000   \n",
       "75%       16.080000      0.000000    220.000000    220.000000    240.000000   \n",
       "max       16.330000      1.000000   2400.000000   2300.000000   2400.000000   \n",
       "\n",
       "              TMINS        UNDREM       METASUM      METASPAM  \n",
       "count  25207.000000  25207.000000  25207.000000  25207.000000  \n",
       "mean    1689.007419      0.211331      0.253519      0.016207  \n",
       "std      365.470989      0.919120      0.894271      0.966326  \n",
       "min      110.000000     -1.640000     -1.720000     -1.410000  \n",
       "25%     1650.000000     -0.600000     -0.180000     -0.500000  \n",
       "50%     1650.000000      0.450000      0.590000     -0.040000  \n",
       "75%     1760.000000      0.800000      0.980000      0.870000  \n",
       "max     3000.000000      1.500000      1.360000      1.330000  "
      ]
     },
     "execution_count": 123,
     "metadata": {},
     "output_type": "execute_result"
    }
   ],
   "source": [
    "dataset_academic.describe(include=[float])"
   ]
  },
  {
   "cell_type": "code",
   "execution_count": 124,
   "metadata": {},
   "outputs": [
    {
     "data": {
      "text/html": [
       "<div>\n",
       "<style scoped>\n",
       "    .dataframe tbody tr th:only-of-type {\n",
       "        vertical-align: middle;\n",
       "    }\n",
       "\n",
       "    .dataframe tbody tr th {\n",
       "        vertical-align: top;\n",
       "    }\n",
       "\n",
       "    .dataframe thead th {\n",
       "        text-align: right;\n",
       "    }\n",
       "</style>\n",
       "<table border=\"1\" class=\"dataframe\">\n",
       "  <thead>\n",
       "    <tr style=\"text-align: right;\">\n",
       "      <th></th>\n",
       "      <th>TMINS_BAND</th>\n",
       "      <th>REPEAT</th>\n",
       "    </tr>\n",
       "  </thead>\n",
       "  <tbody>\n",
       "    <tr>\n",
       "      <th>0</th>\n",
       "      <td>(107.11, 399.0]</td>\n",
       "      <td>0.660377</td>\n",
       "    </tr>\n",
       "    <tr>\n",
       "      <th>1</th>\n",
       "      <td>(399.0, 688.0]</td>\n",
       "      <td>0.340265</td>\n",
       "    </tr>\n",
       "    <tr>\n",
       "      <th>2</th>\n",
       "      <td>(688.0, 977.0]</td>\n",
       "      <td>0.316017</td>\n",
       "    </tr>\n",
       "    <tr>\n",
       "      <th>3</th>\n",
       "      <td>(977.0, 1266.0]</td>\n",
       "      <td>0.262745</td>\n",
       "    </tr>\n",
       "    <tr>\n",
       "      <th>4</th>\n",
       "      <td>(1266.0, 1555.0]</td>\n",
       "      <td>0.191085</td>\n",
       "    </tr>\n",
       "    <tr>\n",
       "      <th>5</th>\n",
       "      <td>(1555.0, 1844.0]</td>\n",
       "      <td>0.233098</td>\n",
       "    </tr>\n",
       "    <tr>\n",
       "      <th>6</th>\n",
       "      <td>(1844.0, 2133.0]</td>\n",
       "      <td>0.218837</td>\n",
       "    </tr>\n",
       "    <tr>\n",
       "      <th>7</th>\n",
       "      <td>(2133.0, 2422.0]</td>\n",
       "      <td>0.248120</td>\n",
       "    </tr>\n",
       "    <tr>\n",
       "      <th>8</th>\n",
       "      <td>(2422.0, 2711.0]</td>\n",
       "      <td>0.253918</td>\n",
       "    </tr>\n",
       "    <tr>\n",
       "      <th>9</th>\n",
       "      <td>(2711.0, 3000.0]</td>\n",
       "      <td>0.273305</td>\n",
       "    </tr>\n",
       "  </tbody>\n",
       "</table>\n",
       "</div>"
      ],
      "text/plain": [
       "         TMINS_BAND    REPEAT\n",
       "0   (107.11, 399.0]  0.660377\n",
       "1    (399.0, 688.0]  0.340265\n",
       "2    (688.0, 977.0]  0.316017\n",
       "3   (977.0, 1266.0]  0.262745\n",
       "4  (1266.0, 1555.0]  0.191085\n",
       "5  (1555.0, 1844.0]  0.233098\n",
       "6  (1844.0, 2133.0]  0.218837\n",
       "7  (2133.0, 2422.0]  0.248120\n",
       "8  (2422.0, 2711.0]  0.253918\n",
       "9  (2711.0, 3000.0]  0.273305"
      ]
     },
     "execution_count": 124,
     "metadata": {},
     "output_type": "execute_result"
    }
   ],
   "source": [
    "target_column='TMINS_BAND'\n",
    "dataset_academic[target_column] = pd.cut(dataset_academic['TMINS'], 10)\n",
    "dataset_academic[[target_column, 'REPEAT']].groupby([target_column], as_index=False).mean().sort_values(by=target_column, ascending=True)"
   ]
  },
  {
   "cell_type": "code",
   "execution_count": 125,
   "metadata": {},
   "outputs": [],
   "source": [
    "target_column='MMINS_BAND'\n",
    "dataset_academic[target_column] = pd.cut(dataset_academic['MMINS'], 10)\n",
    "dataset_academic[[target_column, 'REPEAT']].groupby([target_column], as_index=False).mean().sort_values(by=target_column, ascending=True)\n",
    "dataset_academic=dataset_academic.drop([target_column],axis=1)\n",
    "#Other time spent upon specific lessons holds the similar conclutions."
   ]
  },
  {
   "cell_type": "code",
   "execution_count": 126,
   "metadata": {},
   "outputs": [
    {
     "data": {
      "text/html": [
       "<div>\n",
       "<style scoped>\n",
       "    .dataframe tbody tr th:only-of-type {\n",
       "        vertical-align: middle;\n",
       "    }\n",
       "\n",
       "    .dataframe tbody tr th {\n",
       "        vertical-align: top;\n",
       "    }\n",
       "\n",
       "    .dataframe thead th {\n",
       "        text-align: right;\n",
       "    }\n",
       "</style>\n",
       "<table border=\"1\" class=\"dataframe\">\n",
       "  <thead>\n",
       "    <tr style=\"text-align: right;\">\n",
       "      <th></th>\n",
       "      <th>UNDREM</th>\n",
       "      <th>REPEAT</th>\n",
       "    </tr>\n",
       "  </thead>\n",
       "  <tbody>\n",
       "    <tr>\n",
       "      <th>0</th>\n",
       "      <td>-1.64</td>\n",
       "      <td>0.383120</td>\n",
       "    </tr>\n",
       "    <tr>\n",
       "      <th>1</th>\n",
       "      <td>-1.29</td>\n",
       "      <td>0.318542</td>\n",
       "    </tr>\n",
       "    <tr>\n",
       "      <th>2</th>\n",
       "      <td>-0.94</td>\n",
       "      <td>0.331301</td>\n",
       "    </tr>\n",
       "    <tr>\n",
       "      <th>3</th>\n",
       "      <td>-0.60</td>\n",
       "      <td>0.286980</td>\n",
       "    </tr>\n",
       "    <tr>\n",
       "      <th>4</th>\n",
       "      <td>-0.25</td>\n",
       "      <td>0.273323</td>\n",
       "    </tr>\n",
       "    <tr>\n",
       "      <th>5</th>\n",
       "      <td>0.10</td>\n",
       "      <td>0.218061</td>\n",
       "    </tr>\n",
       "    <tr>\n",
       "      <th>6</th>\n",
       "      <td>0.45</td>\n",
       "      <td>0.226740</td>\n",
       "    </tr>\n",
       "    <tr>\n",
       "      <th>7</th>\n",
       "      <td>0.80</td>\n",
       "      <td>0.180208</td>\n",
       "    </tr>\n",
       "    <tr>\n",
       "      <th>8</th>\n",
       "      <td>1.15</td>\n",
       "      <td>0.153538</td>\n",
       "    </tr>\n",
       "    <tr>\n",
       "      <th>9</th>\n",
       "      <td>1.50</td>\n",
       "      <td>0.146403</td>\n",
       "    </tr>\n",
       "  </tbody>\n",
       "</table>\n",
       "</div>"
      ],
      "text/plain": [
       "   UNDREM    REPEAT\n",
       "0   -1.64  0.383120\n",
       "1   -1.29  0.318542\n",
       "2   -0.94  0.331301\n",
       "3   -0.60  0.286980\n",
       "4   -0.25  0.273323\n",
       "5    0.10  0.218061\n",
       "6    0.45  0.226740\n",
       "7    0.80  0.180208\n",
       "8    1.15  0.153538\n",
       "9    1.50  0.146403"
      ]
     },
     "execution_count": 126,
     "metadata": {},
     "output_type": "execute_result"
    }
   ],
   "source": [
    "dataset_academic[['UNDREM', 'REPEAT']].groupby(['UNDREM'], as_index=False).mean().sort_values(by='UNDREM', ascending=True)\n",
    "#Other MLE of students' personal academic capability holds the similar conclutions."
   ]
  },
  {
   "cell_type": "code",
   "execution_count": 127,
   "metadata": {},
   "outputs": [
    {
     "data": {
      "text/plain": [
       "<AxesSubplot: xlabel='UNDREM', ylabel='TMINS_BAND'>"
      ]
     },
     "execution_count": 127,
     "metadata": {},
     "output_type": "execute_result"
    },
    {
     "data": {
      "image/png": "[encoded data removed]",
      "text/plain": [
       "<Figure size 640x480 with 2 Axes>"
      ]
     },
     "metadata": {},
     "output_type": "display_data"
    }
   ],
   "source": [
    "sns.heatmap(pd.crosstab(dataset_academic['TMINS_BAND'],dataset_academic['UNDREM']))"
   ]
  },
  {
   "attachments": {},
   "cell_type": "markdown",
   "metadata": {},
   "source": [
    "对于学习表现特征的一些统计结论：\n",
    "- 具体学科的学习时间、总体学习时间符合方差较大的正态分布，这可能和统计口径有关，大部分样本的学习花费时间均落在特定的时间段内；\n",
    "- 总体学习花费时间对于是否复读有较大的区分度，而具体学科的花费时间指示性较弱；\n",
    "- 学习能力评估和学习时间花费相吻合，基本符合双变量正态分布；\n",
    "- 具体的学生个人能力评估MLE对于是否复读的区分度较弱。\n",
    "\n",
    "因此我们仅保留`TMINS_BAND`特征和个人能力评估的一个加权平均参考值`META`"
   ]
  },
  {
   "cell_type": "code",
   "execution_count": 128,
   "metadata": {},
   "outputs": [
    {
     "data": {
      "text/html": [
       "<div>\n",
       "<style scoped>\n",
       "    .dataframe tbody tr th:only-of-type {\n",
       "        vertical-align: middle;\n",
       "    }\n",
       "\n",
       "    .dataframe tbody tr th {\n",
       "        vertical-align: top;\n",
       "    }\n",
       "\n",
       "    .dataframe thead th {\n",
       "        text-align: right;\n",
       "    }\n",
       "</style>\n",
       "<table border=\"1\" class=\"dataframe\">\n",
       "  <thead>\n",
       "    <tr style=\"text-align: right;\">\n",
       "      <th></th>\n",
       "      <th>AGE</th>\n",
       "      <th>REPEAT</th>\n",
       "      <th>UNDREM</th>\n",
       "      <th>METASUM</th>\n",
       "      <th>METASPAM</th>\n",
       "      <th>TMINS_BAND</th>\n",
       "    </tr>\n",
       "  </thead>\n",
       "  <tbody>\n",
       "    <tr>\n",
       "      <th>0</th>\n",
       "      <td>15.83</td>\n",
       "      <td>0.0</td>\n",
       "      <td>0.45</td>\n",
       "      <td>-1.72</td>\n",
       "      <td>-1.41</td>\n",
       "      <td>(1555.0, 1844.0]</td>\n",
       "    </tr>\n",
       "    <tr>\n",
       "      <th>1</th>\n",
       "      <td>16.00</td>\n",
       "      <td>0.0</td>\n",
       "      <td>0.80</td>\n",
       "      <td>0.59</td>\n",
       "      <td>1.33</td>\n",
       "      <td>(1555.0, 1844.0]</td>\n",
       "    </tr>\n",
       "    <tr>\n",
       "      <th>2</th>\n",
       "      <td>15.42</td>\n",
       "      <td>0.0</td>\n",
       "      <td>1.50</td>\n",
       "      <td>0.59</td>\n",
       "      <td>-0.50</td>\n",
       "      <td>(1555.0, 1844.0]</td>\n",
       "    </tr>\n",
       "    <tr>\n",
       "      <th>3</th>\n",
       "      <td>16.25</td>\n",
       "      <td>0.0</td>\n",
       "      <td>1.50</td>\n",
       "      <td>1.36</td>\n",
       "      <td>0.42</td>\n",
       "      <td>(2422.0, 2711.0]</td>\n",
       "    </tr>\n",
       "    <tr>\n",
       "      <th>4</th>\n",
       "      <td>16.08</td>\n",
       "      <td>0.0</td>\n",
       "      <td>0.80</td>\n",
       "      <td>-0.18</td>\n",
       "      <td>0.42</td>\n",
       "      <td>(1266.0, 1555.0]</td>\n",
       "    </tr>\n",
       "  </tbody>\n",
       "</table>\n",
       "</div>"
      ],
      "text/plain": [
       "     AGE  REPEAT  UNDREM  METASUM  METASPAM        TMINS_BAND\n",
       "0  15.83     0.0    0.45    -1.72     -1.41  (1555.0, 1844.0]\n",
       "1  16.00     0.0    0.80     0.59      1.33  (1555.0, 1844.0]\n",
       "2  15.42     0.0    1.50     0.59     -0.50  (1555.0, 1844.0]\n",
       "3  16.25     0.0    1.50     1.36      0.42  (2422.0, 2711.0]\n",
       "4  16.08     0.0    0.80    -0.18      0.42  (1266.0, 1555.0]"
      ]
     },
     "execution_count": 128,
     "metadata": {},
     "output_type": "execute_result"
    }
   ],
   "source": [
    "dataset_academic=dataset_academic.drop(['MMINS','LMINS','SMINS','TMINS'],axis=1)\n",
    "dataset_academic.head()"
   ]
  },
  {
   "cell_type": "code",
   "execution_count": 129,
   "metadata": {},
   "outputs": [
    {
     "data": {
      "text/html": [
       "<div>\n",
       "<style scoped>\n",
       "    .dataframe tbody tr th:only-of-type {\n",
       "        vertical-align: middle;\n",
       "    }\n",
       "\n",
       "    .dataframe tbody tr th {\n",
       "        vertical-align: top;\n",
       "    }\n",
       "\n",
       "    .dataframe thead th {\n",
       "        text-align: right;\n",
       "    }\n",
       "</style>\n",
       "<table border=\"1\" class=\"dataframe\">\n",
       "  <thead>\n",
       "    <tr style=\"text-align: right;\">\n",
       "      <th></th>\n",
       "      <th>AGE</th>\n",
       "      <th>REPEAT</th>\n",
       "      <th>TMINS_BAND</th>\n",
       "      <th>META</th>\n",
       "    </tr>\n",
       "  </thead>\n",
       "  <tbody>\n",
       "    <tr>\n",
       "      <th>0</th>\n",
       "      <td>15.83</td>\n",
       "      <td>0.0</td>\n",
       "      <td>(1555.0, 1844.0]</td>\n",
       "      <td>-3.423081</td>\n",
       "    </tr>\n",
       "    <tr>\n",
       "      <th>1</th>\n",
       "      <td>16.00</td>\n",
       "      <td>0.0</td>\n",
       "      <td>(1555.0, 1844.0]</td>\n",
       "      <td>2.376308</td>\n",
       "    </tr>\n",
       "    <tr>\n",
       "      <th>2</th>\n",
       "      <td>15.42</td>\n",
       "      <td>0.0</td>\n",
       "      <td>(1555.0, 1844.0]</td>\n",
       "      <td>1.244136</td>\n",
       "    </tr>\n",
       "    <tr>\n",
       "      <th>3</th>\n",
       "      <td>16.25</td>\n",
       "      <td>0.0</td>\n",
       "      <td>(2422.0, 2711.0]</td>\n",
       "      <td>3.057232</td>\n",
       "    </tr>\n",
       "    <tr>\n",
       "      <th>4</th>\n",
       "      <td>16.08</td>\n",
       "      <td>0.0</td>\n",
       "      <td>(1266.0, 1555.0]</td>\n",
       "      <td>0.573561</td>\n",
       "    </tr>\n",
       "  </tbody>\n",
       "</table>\n",
       "</div>"
      ],
      "text/plain": [
       "     AGE  REPEAT        TMINS_BAND      META\n",
       "0  15.83     0.0  (1555.0, 1844.0] -3.423081\n",
       "1  16.00     0.0  (1555.0, 1844.0]  2.376308\n",
       "2  15.42     0.0  (1555.0, 1844.0]  1.244136\n",
       "3  16.25     0.0  (2422.0, 2711.0]  3.057232\n",
       "4  16.08     0.0  (1266.0, 1555.0]  0.573561"
      ]
     },
     "execution_count": 129,
     "metadata": {},
     "output_type": "execute_result"
    }
   ],
   "source": [
    "meta_columns=['UNDREM',\t'METASUM',\t'METASPAM']\n",
    "for col in meta_columns:\n",
    "    dataset_academic[col]=(dataset_academic[col]-dataset_academic[col].mean())/dataset_academic[col].std()\n",
    "\n",
    "dataset_academic['META']=dataset_academic['UNDREM']+dataset_academic['METASUM']+dataset_academic['METASPAM']\n",
    "\n",
    "for col in meta_columns:\n",
    "    dataset_academic=dataset_academic.drop([col],axis=1)\n",
    "\n",
    "dataset_academic.head()"
   ]
  },
  {
   "cell_type": "code",
   "execution_count": 130,
   "metadata": {},
   "outputs": [
    {
     "data": {
      "text/html": [
       "<div>\n",
       "<style scoped>\n",
       "    .dataframe tbody tr th:only-of-type {\n",
       "        vertical-align: middle;\n",
       "    }\n",
       "\n",
       "    .dataframe tbody tr th {\n",
       "        vertical-align: top;\n",
       "    }\n",
       "\n",
       "    .dataframe thead th {\n",
       "        text-align: right;\n",
       "    }\n",
       "</style>\n",
       "<table border=\"1\" class=\"dataframe\">\n",
       "  <thead>\n",
       "    <tr style=\"text-align: right;\">\n",
       "      <th></th>\n",
       "      <th>META_BAND</th>\n",
       "      <th>REPEAT</th>\n",
       "    </tr>\n",
       "  </thead>\n",
       "  <tbody>\n",
       "    <tr>\n",
       "      <th>0</th>\n",
       "      <td>(-5.707, -4.727]</td>\n",
       "      <td>0.455724</td>\n",
       "    </tr>\n",
       "    <tr>\n",
       "      <th>1</th>\n",
       "      <td>(-4.727, -3.758]</td>\n",
       "      <td>0.413876</td>\n",
       "    </tr>\n",
       "    <tr>\n",
       "      <th>2</th>\n",
       "      <td>(-3.758, -2.788]</td>\n",
       "      <td>0.406618</td>\n",
       "    </tr>\n",
       "    <tr>\n",
       "      <th>3</th>\n",
       "      <td>(-2.788, -1.819]</td>\n",
       "      <td>0.366618</td>\n",
       "    </tr>\n",
       "    <tr>\n",
       "      <th>4</th>\n",
       "      <td>(-1.819, -0.849]</td>\n",
       "      <td>0.315640</td>\n",
       "    </tr>\n",
       "    <tr>\n",
       "      <th>5</th>\n",
       "      <td>(-0.849, 0.121]</td>\n",
       "      <td>0.244686</td>\n",
       "    </tr>\n",
       "    <tr>\n",
       "      <th>6</th>\n",
       "      <td>(0.121, 1.09]</td>\n",
       "      <td>0.197239</td>\n",
       "    </tr>\n",
       "    <tr>\n",
       "      <th>7</th>\n",
       "      <td>(1.09, 2.06]</td>\n",
       "      <td>0.145814</td>\n",
       "    </tr>\n",
       "    <tr>\n",
       "      <th>8</th>\n",
       "      <td>(2.06, 3.029]</td>\n",
       "      <td>0.119056</td>\n",
       "    </tr>\n",
       "    <tr>\n",
       "      <th>9</th>\n",
       "      <td>(3.029, 3.999]</td>\n",
       "      <td>0.082606</td>\n",
       "    </tr>\n",
       "  </tbody>\n",
       "</table>\n",
       "</div>"
      ],
      "text/plain": [
       "          META_BAND    REPEAT\n",
       "0  (-5.707, -4.727]  0.455724\n",
       "1  (-4.727, -3.758]  0.413876\n",
       "2  (-3.758, -2.788]  0.406618\n",
       "3  (-2.788, -1.819]  0.366618\n",
       "4  (-1.819, -0.849]  0.315640\n",
       "5   (-0.849, 0.121]  0.244686\n",
       "6     (0.121, 1.09]  0.197239\n",
       "7      (1.09, 2.06]  0.145814\n",
       "8     (2.06, 3.029]  0.119056\n",
       "9    (3.029, 3.999]  0.082606"
      ]
     },
     "execution_count": 130,
     "metadata": {},
     "output_type": "execute_result"
    }
   ],
   "source": [
    "target_column='META_BAND'\n",
    "dataset_academic[target_column] = pd.cut(dataset_academic['META'], 10)\n",
    "dataset_academic[[target_column, 'REPEAT']].groupby([target_column], as_index=False).mean().sort_values(by=target_column, ascending=True)"
   ]
  },
  {
   "cell_type": "code",
   "execution_count": 131,
   "metadata": {},
   "outputs": [
    {
     "name": "stdout",
     "output_type": "stream",
     "text": [
      "<class 'pandas.core.frame.DataFrame'>\n",
      "Int64Index: 25207 entries, 0 to 27165\n",
      "Data columns (total 4 columns):\n",
      " #   Column      Non-Null Count  Dtype   \n",
      "---  ------      --------------  -----   \n",
      " 0   AGE         25207 non-null  category\n",
      " 1   REPEAT      25207 non-null  category\n",
      " 2   TMINS_BAND  25207 non-null  category\n",
      " 3   META_BAND   25207 non-null  category\n",
      "dtypes: category(4)\n",
      "memory usage: 297.1 KB\n"
     ]
    }
   ],
   "source": [
    "dataset_academic=dataset_academic.drop(['META'],axis=1)\n",
    "dataset_academic['AGE']=dataset_academic['AGE'].astype('category')\n",
    "dataset_academic['REPEAT']=dataset_academic['REPEAT'].astype('category')\n",
    "dataset_academic.info()"
   ]
  },
  {
   "attachments": {},
   "cell_type": "markdown",
   "metadata": {},
   "source": [
    "将特征区间映射到整数上，便于下一步的不同的机器学习模型的输入格式标准化。"
   ]
  },
  {
   "cell_type": "code",
   "execution_count": 132,
   "metadata": {},
   "outputs": [
    {
     "data": {
      "text/html": [
       "<div>\n",
       "<style scoped>\n",
       "    .dataframe tbody tr th:only-of-type {\n",
       "        vertical-align: middle;\n",
       "    }\n",
       "\n",
       "    .dataframe tbody tr th {\n",
       "        vertical-align: top;\n",
       "    }\n",
       "\n",
       "    .dataframe thead th {\n",
       "        text-align: right;\n",
       "    }\n",
       "</style>\n",
       "<table border=\"1\" class=\"dataframe\">\n",
       "  <thead>\n",
       "    <tr style=\"text-align: right;\">\n",
       "      <th></th>\n",
       "      <th>AGE</th>\n",
       "      <th>REPEAT</th>\n",
       "      <th>TMINS_BAND</th>\n",
       "      <th>META_BAND</th>\n",
       "    </tr>\n",
       "  </thead>\n",
       "  <tbody>\n",
       "    <tr>\n",
       "      <th>0</th>\n",
       "      <td>15.83</td>\n",
       "      <td>0.0</td>\n",
       "      <td>(1555.0, 1844.0]</td>\n",
       "      <td>(-3.758, -2.788]</td>\n",
       "    </tr>\n",
       "    <tr>\n",
       "      <th>1</th>\n",
       "      <td>16.00</td>\n",
       "      <td>0.0</td>\n",
       "      <td>(1555.0, 1844.0]</td>\n",
       "      <td>(2.06, 3.029]</td>\n",
       "    </tr>\n",
       "    <tr>\n",
       "      <th>2</th>\n",
       "      <td>15.42</td>\n",
       "      <td>0.0</td>\n",
       "      <td>(1555.0, 1844.0]</td>\n",
       "      <td>(1.09, 2.06]</td>\n",
       "    </tr>\n",
       "    <tr>\n",
       "      <th>3</th>\n",
       "      <td>16.25</td>\n",
       "      <td>0.0</td>\n",
       "      <td>(2422.0, 2711.0]</td>\n",
       "      <td>(3.029, 3.999]</td>\n",
       "    </tr>\n",
       "    <tr>\n",
       "      <th>4</th>\n",
       "      <td>16.08</td>\n",
       "      <td>0.0</td>\n",
       "      <td>(1266.0, 1555.0]</td>\n",
       "      <td>(0.121, 1.09]</td>\n",
       "    </tr>\n",
       "  </tbody>\n",
       "</table>\n",
       "</div>"
      ],
      "text/plain": [
       "     AGE REPEAT        TMINS_BAND         META_BAND\n",
       "0  15.83    0.0  (1555.0, 1844.0]  (-3.758, -2.788]\n",
       "1  16.00    0.0  (1555.0, 1844.0]     (2.06, 3.029]\n",
       "2  15.42    0.0  (1555.0, 1844.0]      (1.09, 2.06]\n",
       "3  16.25    0.0  (2422.0, 2711.0]    (3.029, 3.999]\n",
       "4  16.08    0.0  (1266.0, 1555.0]     (0.121, 1.09]"
      ]
     },
     "execution_count": 132,
     "metadata": {},
     "output_type": "execute_result"
    }
   ],
   "source": [
    "dataset_academic.head()"
   ]
  },
  {
   "cell_type": "code",
   "execution_count": 133,
   "metadata": {},
   "outputs": [
    {
     "data": {
      "text/html": [
       "<div>\n",
       "<style scoped>\n",
       "    .dataframe tbody tr th:only-of-type {\n",
       "        vertical-align: middle;\n",
       "    }\n",
       "\n",
       "    .dataframe tbody tr th {\n",
       "        vertical-align: top;\n",
       "    }\n",
       "\n",
       "    .dataframe thead th {\n",
       "        text-align: right;\n",
       "    }\n",
       "</style>\n",
       "<table border=\"1\" class=\"dataframe\">\n",
       "  <thead>\n",
       "    <tr style=\"text-align: right;\">\n",
       "      <th></th>\n",
       "      <th>AGE</th>\n",
       "      <th>REPEAT</th>\n",
       "      <th>TMINS_BAND</th>\n",
       "      <th>META_BAND</th>\n",
       "    </tr>\n",
       "  </thead>\n",
       "  <tbody>\n",
       "    <tr>\n",
       "      <th>0</th>\n",
       "      <td>25190</td>\n",
       "      <td>25206</td>\n",
       "      <td>25206</td>\n",
       "      <td>25200</td>\n",
       "    </tr>\n",
       "    <tr>\n",
       "      <th>1</th>\n",
       "      <td>25180</td>\n",
       "      <td>25206</td>\n",
       "      <td>25206</td>\n",
       "      <td>25204</td>\n",
       "    </tr>\n",
       "    <tr>\n",
       "      <th>2</th>\n",
       "      <td>25198</td>\n",
       "      <td>25206</td>\n",
       "      <td>25206</td>\n",
       "      <td>25201</td>\n",
       "    </tr>\n",
       "    <tr>\n",
       "      <th>3</th>\n",
       "      <td>25182</td>\n",
       "      <td>25206</td>\n",
       "      <td>25180</td>\n",
       "      <td>25197</td>\n",
       "    </tr>\n",
       "    <tr>\n",
       "      <th>4</th>\n",
       "      <td>25177</td>\n",
       "      <td>25206</td>\n",
       "      <td>25204</td>\n",
       "      <td>25196</td>\n",
       "    </tr>\n",
       "  </tbody>\n",
       "</table>\n",
       "</div>"
      ],
      "text/plain": [
       "     AGE REPEAT TMINS_BAND META_BAND\n",
       "0  25190  25206      25206     25200\n",
       "1  25180  25206      25206     25204\n",
       "2  25198  25206      25206     25201\n",
       "3  25182  25206      25180     25197\n",
       "4  25177  25206      25204     25196"
      ]
     },
     "execution_count": 133,
     "metadata": {},
     "output_type": "execute_result"
    }
   ],
   "source": [
    "columns=['AGE','REPEAT','TMINS_BAND','META_BAND']\n",
    "val_dict:dict[str,dict]={}\n",
    "dataset_academic_final=pd.DataFrame()\n",
    "for col in columns:\n",
    "    val_list=dataset_academic[col].values\n",
    "    index_list=[x for x in range(0,len(val_list))]\n",
    "    val_dict[col]=dict(zip(val_list,index_list))\n",
    "for col in columns:\n",
    "    val_map=val_dict[col]\n",
    "    dataset_academic_final[col]=dataset_academic[col].map(val_map)\n",
    "dataset_academic_final.head()"
   ]
  },
  {
   "attachments": {},
   "cell_type": "markdown",
   "metadata": {},
   "source": [
    "开始大锅乱炖，利用常规机器学习的方法进行预测，这里选择逻辑回归函数。"
   ]
  },
  {
   "cell_type": "code",
   "execution_count": 134,
   "metadata": {},
   "outputs": [
    {
     "data": {
      "text/plain": [
       "((20165, 3), (5042, 3), (20165,), (5042,))"
      ]
     },
     "execution_count": 134,
     "metadata": {},
     "output_type": "execute_result"
    }
   ],
   "source": [
    "answer=dataset_academic_final['REPEAT']\n",
    "data=dataset_academic_final.drop(['REPEAT'],axis=1)\n",
    "from sklearn.model_selection import train_test_split\n",
    "\n",
    "X_train, X_test, Y_train, Y_test = train_test_split(data, answer, test_size=0.2, random_state=0)\n",
    "X_train.shape,X_test.shape,Y_train.shape, Y_test.shape"
   ]
  },
  {
   "cell_type": "code",
   "execution_count": 135,
   "metadata": {},
   "outputs": [
    {
     "name": "stdout",
     "output_type": "stream",
     "text": [
      "ACC: 0.7658 F1: 0.4342\n"
     ]
    }
   ],
   "source": [
    "from sklearn.linear_model import LogisticRegression\n",
    "logreg = LogisticRegression()\n",
    "logreg.fit(X_train, Y_train)\n",
    "Y_pred = logreg.predict(X_test)\n",
    "acc_log = round(logreg.score(X_train, Y_train) , 4)\n",
    "f1=round(f1_score(Y_test,Y_pred,average='macro'),4) # type: ignore\n",
    "print(\"ACC:\",acc_log,\"F1:\",f1)"
   ]
  },
  {
   "attachments": {},
   "cell_type": "markdown",
   "metadata": {},
   "source": [
    "得到的模型预测正确率在76%左右，这可能与REPEAT中的标签绝对数量的分布有关，F1-score并不理想。\n",
    "\n",
    "我们加入原先的`GRADE`特征，进行综合预测，观察是否F1指标得到了提升。"
   ]
  },
  {
   "cell_type": "code",
   "execution_count": 136,
   "metadata": {},
   "outputs": [
    {
     "data": {
      "text/plain": [
       "((20034, 5), (5009, 5), (20034,), (5009,))"
      ]
     },
     "execution_count": 136,
     "metadata": {},
     "output_type": "execute_result"
    }
   ],
   "source": [
    "dataset_academic_final['GRADE']=dataset_overview['GRADE']\n",
    "dataset_academic_final['IMMIG']=dataset_overview['IMMIG']\n",
    "dataset_academic_final=dataset_academic_final.dropna(axis=0,how='any')\n",
    "answer=dataset_academic_final['REPEAT']\n",
    "data=dataset_academic_final.drop(['REPEAT'],axis=1)\n",
    "from sklearn.model_selection import train_test_split\n",
    "\n",
    "X_train, X_test, Y_train, Y_test = train_test_split(data, answer, test_size=0.2, random_state=0)\n",
    "X_train.shape,X_test.shape,Y_train.shape, Y_test.shape"
   ]
  },
  {
   "cell_type": "code",
   "execution_count": 137,
   "metadata": {},
   "outputs": [
    {
     "name": "stdout",
     "output_type": "stream",
     "text": [
      "ACC: 0.9741 F1: 0.9604\n"
     ]
    },
    {
     "name": "stderr",
     "output_type": "stream",
     "text": [
      "c:\\Users\\PDW\\AppData\\Local\\Programs\\Python\\Python310\\lib\\site-packages\\sklearn\\linear_model\\_logistic.py:444: ConvergenceWarning: lbfgs failed to converge (status=1):\n",
      "STOP: TOTAL NO. of ITERATIONS REACHED LIMIT.\n",
      "\n",
      "Increase the number of iterations (max_iter) or scale the data as shown in:\n",
      "    https://scikit-learn.org/stable/modules/preprocessing.html\n",
      "Please also refer to the documentation for alternative solver options:\n",
      "    https://scikit-learn.org/stable/modules/linear_model.html#logistic-regression\n",
      "  n_iter_i = _check_optimize_result(\n"
     ]
    }
   ],
   "source": [
    "from sklearn.linear_model import LogisticRegression\n",
    "logreg = LogisticRegression()\n",
    "try:\n",
    "  logreg.fit(X_train, Y_train)\n",
    "  Y_pred = logreg.predict(X_test)\n",
    "finally:\n",
    "  pass\n",
    "acc_log = round(logreg.score(X_train, Y_train) , 4)\n",
    "f1=round(f1_score(Y_test,Y_pred,average='macro'),4) # type: ignore\n",
    "print(\"ACC:\",acc_log,\"F1:\",f1)"
   ]
  },
  {
   "attachments": {},
   "cell_type": "markdown",
   "metadata": {},
   "source": [
    "可以看到，F1-score并没有客观的提升。这说明学习时长`TMINS_BAND`，个人学习能力`META_BAND`对于`GRADE`是有效的补充特征，尽管不是决定性因素。其关联性弱于GRADE。\n",
    "\n",
    "下一步我们考察转校次数相关的特征与复读情况的关联性，我们选择如下特征：早年受教育时间，转校次数，累计转校次数；同时将年龄和移民身份纳入考量，这是因为如果在受教育阶段有移民的话，那么转校次数势必有表现。"
   ]
  },
  {
   "cell_type": "code",
   "execution_count": 190,
   "metadata": {},
   "outputs": [
    {
     "data": {
      "text/plain": [
       "IMMIG        232\n",
       "DURECEC     1841\n",
       "REPEAT        19\n",
       "SCCHANGE     264\n",
       "CHANGE       307\n",
       "dtype: int64"
      ]
     },
     "execution_count": 190,
     "metadata": {},
     "output_type": "execute_result"
    }
   ],
   "source": [
    "dataset_school=pd.read_csv(\"./lab3-data-pre.csv\",usecols=school_change_columns)\n",
    "dataset_school.isna().sum()"
   ]
  },
  {
   "cell_type": "code",
   "execution_count": 191,
   "metadata": {},
   "outputs": [
    {
     "data": {
      "text/html": [
       "<div>\n",
       "<style scoped>\n",
       "    .dataframe tbody tr th:only-of-type {\n",
       "        vertical-align: middle;\n",
       "    }\n",
       "\n",
       "    .dataframe tbody tr th {\n",
       "        vertical-align: top;\n",
       "    }\n",
       "\n",
       "    .dataframe thead th {\n",
       "        text-align: right;\n",
       "    }\n",
       "</style>\n",
       "<table border=\"1\" class=\"dataframe\">\n",
       "  <thead>\n",
       "    <tr style=\"text-align: right;\">\n",
       "      <th></th>\n",
       "      <th>DURECEC</th>\n",
       "      <th>REPEAT</th>\n",
       "    </tr>\n",
       "  </thead>\n",
       "  <tbody>\n",
       "    <tr>\n",
       "      <th>0</th>\n",
       "      <td>0.0</td>\n",
       "      <td>0.411043</td>\n",
       "    </tr>\n",
       "    <tr>\n",
       "      <th>1</th>\n",
       "      <td>1.0</td>\n",
       "      <td>0.355450</td>\n",
       "    </tr>\n",
       "    <tr>\n",
       "      <th>2</th>\n",
       "      <td>2.0</td>\n",
       "      <td>0.302658</td>\n",
       "    </tr>\n",
       "    <tr>\n",
       "      <th>3</th>\n",
       "      <td>3.0</td>\n",
       "      <td>0.193643</td>\n",
       "    </tr>\n",
       "    <tr>\n",
       "      <th>4</th>\n",
       "      <td>4.0</td>\n",
       "      <td>0.233827</td>\n",
       "    </tr>\n",
       "    <tr>\n",
       "      <th>5</th>\n",
       "      <td>5.0</td>\n",
       "      <td>0.267062</td>\n",
       "    </tr>\n",
       "    <tr>\n",
       "      <th>6</th>\n",
       "      <td>6.0</td>\n",
       "      <td>0.485294</td>\n",
       "    </tr>\n",
       "    <tr>\n",
       "      <th>7</th>\n",
       "      <td>7.0</td>\n",
       "      <td>0.476190</td>\n",
       "    </tr>\n",
       "    <tr>\n",
       "      <th>8</th>\n",
       "      <td>8.0</td>\n",
       "      <td>0.500000</td>\n",
       "    </tr>\n",
       "  </tbody>\n",
       "</table>\n",
       "</div>"
      ],
      "text/plain": [
       "   DURECEC    REPEAT\n",
       "0      0.0  0.411043\n",
       "1      1.0  0.355450\n",
       "2      2.0  0.302658\n",
       "3      3.0  0.193643\n",
       "4      4.0  0.233827\n",
       "5      5.0  0.267062\n",
       "6      6.0  0.485294\n",
       "7      7.0  0.476190\n",
       "8      8.0  0.500000"
      ]
     },
     "execution_count": 191,
     "metadata": {},
     "output_type": "execute_result"
    }
   ],
   "source": [
    "target_column='DURECEC'\n",
    "dataset_school[[target_column, 'REPEAT']].groupby([target_column], as_index=False).mean().sort_values(by=target_column, ascending=True)"
   ]
  },
  {
   "cell_type": "code",
   "execution_count": 192,
   "metadata": {},
   "outputs": [
    {
     "data": {
      "text/plain": [
       "3.0    0.647494\n",
       "2.0    0.142685\n",
       "4.0    0.110189\n",
       "1.0    0.044970\n",
       "5.0    0.037343\n",
       "0.0    0.011496\n",
       "6.0    0.004959\n",
       "7.0    0.000714\n",
       "8.0    0.000150\n",
       "Name: DURECEC, dtype: float64"
      ]
     },
     "execution_count": 192,
     "metadata": {},
     "output_type": "execute_result"
    }
   ],
   "source": [
    "dataset_school['DURECEC']=dataset_school['DURECEC'].fillna(dataset_school['DURECEC'].median())\n",
    "dataset_school=dataset_school.dropna(axis=0,how='any')\n",
    "dataset_school['DURECEC'].value_counts(normalize=True,sort=True)"
   ]
  },
  {
   "cell_type": "code",
   "execution_count": 193,
   "metadata": {},
   "outputs": [
    {
     "name": "stdout",
     "output_type": "stream",
     "text": [
      "<class 'pandas.core.frame.DataFrame'>\n",
      "Int64Index: 26618 entries, 111 to 27165\n",
      "Data columns (total 5 columns):\n",
      " #   Column    Non-Null Count  Dtype\n",
      "---  ------    --------------  -----\n",
      " 0   IMMIG     26618 non-null  Int64\n",
      " 1   DURECEC   26618 non-null  Int64\n",
      " 2   REPEAT    26618 non-null  Int64\n",
      " 3   SCCHANGE  26618 non-null  Int64\n",
      " 4   CHANGE    26618 non-null  Int64\n",
      "dtypes: Int64(5)\n",
      "memory usage: 1.3 MB\n"
     ]
    }
   ],
   "source": [
    "dataset_school=dataset_school.astype('Int64')\n",
    "dataset_school.info()"
   ]
  },
  {
   "cell_type": "code",
   "execution_count": 194,
   "metadata": {},
   "outputs": [
    {
     "data": {
      "text/html": [
       "<div>\n",
       "<style scoped>\n",
       "    .dataframe tbody tr th:only-of-type {\n",
       "        vertical-align: middle;\n",
       "    }\n",
       "\n",
       "    .dataframe tbody tr th {\n",
       "        vertical-align: top;\n",
       "    }\n",
       "\n",
       "    .dataframe thead th {\n",
       "        text-align: right;\n",
       "    }\n",
       "</style>\n",
       "<table border=\"1\" class=\"dataframe\">\n",
       "  <thead>\n",
       "    <tr style=\"text-align: right;\">\n",
       "      <th>SCCHANGE</th>\n",
       "      <th>0</th>\n",
       "      <th>1</th>\n",
       "      <th>2</th>\n",
       "    </tr>\n",
       "    <tr>\n",
       "      <th>CHANGE</th>\n",
       "      <th></th>\n",
       "      <th></th>\n",
       "      <th></th>\n",
       "    </tr>\n",
       "  </thead>\n",
       "  <tbody>\n",
       "    <tr>\n",
       "      <th>0</th>\n",
       "      <td>17070</td>\n",
       "      <td>0</td>\n",
       "      <td>0</td>\n",
       "    </tr>\n",
       "    <tr>\n",
       "      <th>1</th>\n",
       "      <td>1270</td>\n",
       "      <td>4501</td>\n",
       "      <td>0</td>\n",
       "    </tr>\n",
       "    <tr>\n",
       "      <th>2</th>\n",
       "      <td>147</td>\n",
       "      <td>746</td>\n",
       "      <td>1416</td>\n",
       "    </tr>\n",
       "    <tr>\n",
       "      <th>3</th>\n",
       "      <td>0</td>\n",
       "      <td>124</td>\n",
       "      <td>818</td>\n",
       "    </tr>\n",
       "    <tr>\n",
       "      <th>4</th>\n",
       "      <td>1</td>\n",
       "      <td>1</td>\n",
       "      <td>359</td>\n",
       "    </tr>\n",
       "    <tr>\n",
       "      <th>5</th>\n",
       "      <td>0</td>\n",
       "      <td>0</td>\n",
       "      <td>110</td>\n",
       "    </tr>\n",
       "    <tr>\n",
       "      <th>6</th>\n",
       "      <td>0</td>\n",
       "      <td>0</td>\n",
       "      <td>55</td>\n",
       "    </tr>\n",
       "  </tbody>\n",
       "</table>\n",
       "</div>"
      ],
      "text/plain": [
       "SCCHANGE      0     1     2\n",
       "CHANGE                     \n",
       "0         17070     0     0\n",
       "1          1270  4501     0\n",
       "2           147   746  1416\n",
       "3             0   124   818\n",
       "4             1     1   359\n",
       "5             0     0   110\n",
       "6             0     0    55"
      ]
     },
     "execution_count": 194,
     "metadata": {},
     "output_type": "execute_result"
    }
   ],
   "source": [
    "pd.crosstab(dataset_school['CHANGE'],dataset_school['SCCHANGE'])"
   ]
  },
  {
   "attachments": {},
   "cell_type": "markdown",
   "metadata": {},
   "source": [
    "至此我们得到两个统计性的结论：\n",
    "- 早年接受教育的时间和是否复读有相关性，近似于满足一个负相关的正态分布；\n",
    "- 转校次数和转校累计次数两个特征的差值可能与复读情况存在联系，这与我们的先验经验可以得知。\n",
    "\n",
    "接下来，我们需要对累计转校次数的肥尾进行处理。然后查看二者的差值与复读情况的统计规律。由下表可知，对于`SCCHANGE=0,CHANGE=1`的情况下，对于是否复读有很强的区分度。"
   ]
  },
  {
   "cell_type": "code",
   "execution_count": 195,
   "metadata": {},
   "outputs": [],
   "source": [
    "change_map={0:0,1:1,2:2,3:3,4:3,5:3,6:3}\n",
    "dataset_school['CHANGE']=dataset_school['CHANGE'].map(change_map)"
   ]
  },
  {
   "cell_type": "code",
   "execution_count": 196,
   "metadata": {},
   "outputs": [
    {
     "data": {
      "text/plain": [
       "<seaborn.axisgrid.FacetGrid at 0x220eccc3a90>"
      ]
     },
     "execution_count": 196,
     "metadata": {},
     "output_type": "execute_result"
    },
    {
     "data": {
      "image/png": "[encoded data removed]",
      "text/plain": [
       "<Figure size 611.111x1200 with 8 Axes>"
      ]
     },
     "metadata": {},
     "output_type": "display_data"
    }
   ],
   "source": [
    "grid = sns.FacetGrid(dataset_school, row='CHANGE', col='REPEAT')\n",
    "grid.map(plt.hist, 'SCCHANGE', alpha=.8, )\n",
    "grid.add_legend()"
   ]
  },
  {
   "attachments": {},
   "cell_type": "markdown",
   "metadata": {},
   "source": [
    "同理，我们进行逻辑回归预测，由于原始字段均为离散的，因此不需要再进行分段处理。\n",
    "\n",
    "我们看到，该特征组合\"转校情况组合\"对于是否复读的预测效果好于利用\"学习能力组合\"。"
   ]
  },
  {
   "cell_type": "code",
   "execution_count": 197,
   "metadata": {},
   "outputs": [
    {
     "data": {
      "text/plain": [
       "((21294, 4), (5324, 4), (21294,), (5324,))"
      ]
     },
     "execution_count": 197,
     "metadata": {},
     "output_type": "execute_result"
    }
   ],
   "source": [
    "dataset_school=dataset_school.dropna(axis=0,how='any')\n",
    "answer=dataset_school['REPEAT']\n",
    "data=dataset_school.drop(['REPEAT'],axis=1)\n",
    "from sklearn.model_selection import train_test_split\n",
    "\n",
    "X_train, X_test, Y_train, Y_test = train_test_split(data, answer, test_size=0.2, random_state=0)\n",
    "Y_train=Y_train.astype('int'); Y_test=Y_test.astype('int')\n",
    "X_train.shape,X_test.shape,Y_train.shape, Y_test.shape"
   ]
  },
  {
   "cell_type": "code",
   "execution_count": 198,
   "metadata": {},
   "outputs": [
    {
     "name": "stdout",
     "output_type": "stream",
     "text": [
      "ACC: 0.7616 F1: 0.5376\n"
     ]
    }
   ],
   "source": [
    "from sklearn.linear_model import LogisticRegression\n",
    "logreg = LogisticRegression()\n",
    "try:\n",
    "  logreg.fit(X_train, Y_train)\n",
    "  Y_pred = logreg.predict(X_test)\n",
    "finally:\n",
    "  pass\n",
    "acc_log = round(logreg.score(X_train, Y_train) , 4)\n",
    "f1=round(f1_score(Y_test,Y_pred,average='macro'),4) # type: ignore\n",
    "print(\"ACC:\",acc_log,\"F1:\",f1)"
   ]
  },
  {
   "attachments": {},
   "cell_type": "markdown",
   "metadata": {},
   "source": [
    "## 实验总结\n",
    "\n",
    "PISA2018 包含了学生问卷，考试诊断，学校、老师等数个数据集。本次实验针对PICA2015中的学生调查问卷数据集，共490个特征。\n",
    "- 大部分特征字段为具体的问卷调查回答，具体的考试题目得分；\n",
    "- 学生概括性特征，包含性别，年龄，国籍，移民身份，所在年级等；\n",
    "- 学生的学习水平特征，包括：具体科目的时间花费，抽象的个人学习能力等；\n",
    "- 学生的家庭状况特征，包括：家庭资产水平，家庭中的文化相关资产水平，学生可使用电子设备的情况等；\n",
    "- 学生父母相关特征，包括父母的受教育水平，父母的职业等；\n",
    "- 一些和该调研本身相关的特征，例如问卷的语言选择代号，该学生是否接受过其他项目等；\n",
    "\n",
    "与`REPEAT`字段强相关的特征：\n",
    "- 学生所在年级与理应所在年级的差值`GRADE`；\n",
    "- 学生的移民身份`IMMIG`；\n",
    "- 学生在学业上花费的时间`TMINS`;\n",
    "- 学生的个人学习能力的各项指标`METASUM`;\n",
    "- 转校次数和累计转校次数的差值`CHANGE`-`SCCHANGE`;\n",
    "\n",
    "与`REPEAT`字段弱相关的特征：\n",
    "- 年龄；（年龄的关联性显著弱于所在年级的关联性）\n",
    "- 性别；（男女性别样本数量均匀分布，可以确定无关）\n",
    "- 国籍；（由于本次抽取的样本中，不同国籍的样本占比差异过大，无法得出有效结论）"
   ]
  }
 ],
 "metadata": {
  "kernelspec": {
   "display_name": "Python 3",
   "language": "python",
   "name": "python3"
  },
  "language_info": {
   "codemirror_mode": {
    "name": "ipython",
    "version": 3
   },
   "file_extension": ".py",
   "mimetype": "text/x-python",
   "name": "python",
   "nbconvert_exporter": "python",
   "pygments_lexer": "ipython3",
   "version": "3.10.7"
  },
  "orig_nbformat": 4
 },
 "nbformat": 4,
 "nbformat_minor": 2
}
